{
 "cells": [
  {
   "cell_type": "code",
   "execution_count": 4,
   "id": "a2b40258",
   "metadata": {},
   "outputs": [],
   "source": [
    "# Setup\n",
    "from sklearn.preprocessing import MinMaxScaler\n",
    "import matplotlib.pyplot as plt\n",
    "import torch.nn as nn\n",
    "import pandas as pd\n",
    "import torch"
   ]
  },
  {
   "cell_type": "markdown",
   "id": "c485136c",
   "metadata": {},
   "source": [
    "# Steam Game Recommendation System (AI Prototype)\n",
    "Goal : Build a minimal AI-based recommender using Matrix Factorization/Neural Collaborative Filtering"
   ]
  },
  {
   "cell_type": "markdown",
   "id": "2bdb41a1",
   "metadata": {},
   "source": [
    "# Introduction\n",
    "## Data Source\n",
    "The dataset being used in this case is the Steam Video Game and Budle Data - User and Item data and item data from Professor Julian McAluley of the University of California San Diego\n",
    "\n",
    "### Metadata and Key Features\n",
    "#### Dataset 1 - user-item data\n",
    "Size : 527 MB\n",
    "Items : 88310\n",
    "Data Range : \n",
    "Data Format : SteamID - Items{item_id, playtime_forever}\n",
    "#### Dataset 2 - item data\n",
    "Size :\n",
    "Items :\n",
    "Data Range : \n",
    "Data Format : ItemId - playtime_forever, tags, genres"
   ]
  },
  {
   "cell_type": "code",
   "execution_count": null,
   "id": "65e71b12",
   "metadata": {},
   "outputs": [],
   "source": [
    "# load data (col: user_id, item_id, playtime, )\n",
    "df = pd.read_csv()"
   ]
  },
  {
   "cell_type": "markdown",
   "id": "04521968",
   "metadata": {},
   "source": [
    "# Exploratory Data Analysis"
   ]
  },
  {
   "cell_type": "markdown",
   "id": "45e8a303",
   "metadata": {},
   "source": [
    "# Model Implementation"
   ]
  },
  {
   "cell_type": "code",
   "execution_count": null,
   "id": "0d5eebb4",
   "metadata": {},
   "outputs": [],
   "source": []
  },
  {
   "cell_type": "markdown",
   "id": "d6b7436b",
   "metadata": {},
   "source": [
    "## Basline"
   ]
  },
  {
   "cell_type": "markdown",
   "id": "8667eb7b",
   "metadata": {},
   "source": [
    "## AI-Based Model"
   ]
  },
  {
   "cell_type": "markdown",
   "id": "0daf8e0d",
   "metadata": {},
   "source": [
    "# Evaluation"
   ]
  },
  {
   "cell_type": "markdown",
   "id": "918c5c9b",
   "metadata": {},
   "source": [
    "# Demo"
   ]
  },
  {
   "cell_type": "markdown",
   "id": "97ad0b7d",
   "metadata": {},
   "source": [
    "# Conclusion\n",
    "## Summary\n",
    "## Limitations\n",
    "## Future"
   ]
  }
 ],
 "metadata": {
  "kernelspec": {
   "display_name": ".venv",
   "language": "python",
   "name": "python3"
  },
  "language_info": {
   "codemirror_mode": {
    "name": "ipython",
    "version": 3
   },
   "file_extension": ".py",
   "mimetype": "text/x-python",
   "name": "python",
   "nbconvert_exporter": "python",
   "pygments_lexer": "ipython3",
   "version": "3.12.4"
  }
 },
 "nbformat": 4,
 "nbformat_minor": 5
}
