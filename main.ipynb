{
 "cells": [
  {
   "cell_type": "code",
   "execution_count": null,
   "id": "a2b40258",
   "metadata": {},
   "outputs": [],
   "source": [
    "# Setup\n",
    "from sklearn.preprocessing import MinMaxScaler\n",
    "from sklearn.feature_extraction.text import TfidfVectorizer\n",
    "from sklearn.metrics.pairwise import cosine_similarity\n",
    "import matplotlib.pyplot as plt\n",
    "import torch.nn as nn\n",
    "import pandas as pd\n",
    "import torch, json"
   ]
  },
  {
   "cell_type": "markdown",
   "id": "c485136c",
   "metadata": {},
   "source": [
    "# Steam Game Recommendation System (AI Prototype)\n",
    "Goal : Build a minimal AI-based recommender using Matrix Factorization/Neural Collaborative Filtering"
   ]
  },
  {
   "cell_type": "markdown",
   "id": "2bdb41a1",
   "metadata": {},
   "source": [
    "# Introduction\n",
    "## Data Source\n",
    "The dataset being used in this case is the Steam Video Game and Budle Data - User and Item data and item data from Professor Julian McAluley of the University of California San Diego\n",
    "\n",
    "### Metadata and Key Features\n",
    "#### Dataset 1 - user-item data\n",
    "Size : 527 MB  \n",
    "Items : 88310  \n",
    "Data Range :  \n",
    "Data Format : SteamID - Items{item_id, playtime_forever}  \n",
    "#### Dataset 2 - item data\n",
    "Size :  \n",
    "Items :  \n",
    "Data Range :   \n",
    "Data Format : ItemId - playtime_forever, tags, genres  "
   ]
  },
  {
   "cell_type": "code",
   "execution_count": null,
   "id": "65e71b12",
   "metadata": {},
   "outputs": [],
   "source": [
    "import pandas as pd\n",
    "import json\n",
    "\n",
    "# Load user-item data\n",
    "with open('item_user_data.json') as f:\n",
    "    user_data = json.load(f)\n",
    "\n",
    "# Load item data\n",
    "with open('item_data.json') as f:\n",
    "    item_data = json.load(f)\n",
    "\n",
    "# convert to dataframes\n",
    "rows = []\n",
    "for user in user_data:\n",
    "    for item in user['items']:\n",
    "        rows.append({\n",
    "\n",
    "        })"
   ]
  },
  {
   "cell_type": "markdown",
   "id": "04521968",
   "metadata": {},
   "source": [
    "# Exploratory Data Analysis"
   ]
  },
  {
   "cell_type": "markdown",
   "id": "45e8a303",
   "metadata": {},
   "source": [
    "# Model Implementation"
   ]
  },
  {
   "cell_type": "markdown",
   "id": "d6b7436b",
   "metadata": {},
   "source": [
    "## Basline"
   ]
  },
  {
   "cell_type": "markdown",
   "id": "8667eb7b",
   "metadata": {},
   "source": [
    "## AI-Based Model"
   ]
  },
  {
   "cell_type": "markdown",
   "id": "0daf8e0d",
   "metadata": {},
   "source": [
    "# Evaluation"
   ]
  },
  {
   "cell_type": "markdown",
   "id": "918c5c9b",
   "metadata": {},
   "source": [
    "# Demo"
   ]
  },
  {
   "cell_type": "markdown",
   "id": "97ad0b7d",
   "metadata": {},
   "source": [
    "# Conclusion\n",
    "## Summary\n",
    "## Limitations\n",
    "## Future"
   ]
  }
 ],
 "metadata": {
  "kernelspec": {
   "display_name": ".venv",
   "language": "python",
   "name": "python3"
  },
  "language_info": {
   "codemirror_mode": {
    "name": "ipython",
    "version": 3
   },
   "file_extension": ".py",
   "mimetype": "text/x-python",
   "name": "python",
   "nbconvert_exporter": "python",
   "pygments_lexer": "ipython3",
   "version": "3.12.2"
  }
 },
 "nbformat": 4,
 "nbformat_minor": 5
}
