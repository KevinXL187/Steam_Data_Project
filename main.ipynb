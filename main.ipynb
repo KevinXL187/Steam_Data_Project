{
 "cells": [
  {
   "cell_type": "code",
   "execution_count": null,
   "id": "a2b40258",
   "metadata": {},
   "outputs": [],
   "source": [
    "# Setup\n",
    "from collections import defaultdict\n",
    "import matplotlib.pyplot as plt\n",
    "import pandas as pd\n",
    "import json"
   ]
  },
  {
   "cell_type": "markdown",
   "id": "c485136c",
   "metadata": {},
   "source": [
    "# Steam Game Recommendation System (AI Prototype)\n",
    "Goal : Build a minimal AI-based recommender using Matrix Factorization/Neural Collaborative Filtering"
   ]
  },
  {
   "cell_type": "markdown",
   "id": "2bdb41a1",
   "metadata": {},
   "source": [
    "# Introduction\n",
    "## Data Source\n",
    "The dataset being used in this case is the Steam Video Game and Budle Data - User and Item data and item data from Professor Julian McAluley of the University of California San Diego\n",
    "\n",
    "### Metadata and Key Features\n",
    "#### Dataset 1 - user-item data\n",
    "Size : 527 MB  \n",
    "Items : 88310  \n",
    "Data Range :  \n",
    "Data Format : SteamID - Items{item_id, playtime_forever}  \n",
    "#### Dataset 2 - item data\n",
    "Size :  \n",
    "Items :  \n",
    "Data Range :   \n",
    "Data Format : ItemId - playtime_forever, (tags/genres/categories)  "
   ]
  },
  {
   "cell_type": "code",
   "execution_count": null,
   "id": "65e71b12",
   "metadata": {},
   "outputs": [],
   "source": [
    "from sklearn.preprocessing import MinMaxScaler\n",
    "\n",
    "# Load user-item data\n",
    "with open('item_user_data.json') as f:\n",
    "    user_data = json.load(f)\n",
    "\n",
    "# Load item data\n",
    "with open('item_data.json') as f:\n",
    "    item_data = json.load(f)\n",
    "\n",
    "# Flatten the data to df\n",
    "rows = []\n",
    "for user in user_data:\n",
    "    for item in user['items']:\n",
    "        rows.append({\n",
    "            'steam_id': user['steam_id'],\n",
    "            'item_id': item['item_id'],\n",
    "            'playtime': item['playtime_forever']\n",
    "        })\n",
    "userItem_df = pd.DataFrame(rows)\n",
    "\n",
    "# Convert only relevant metadata to df\n",
    "rows = []\n",
    "for game in item_data:\n",
    "    rows.append({\n",
    "        'id' : game['id'],\n",
    "        'name' : game['app_name'],\n",
    "        'tags' : game['tags'],\n",
    "        'price' : game['price'],\n",
    "    })\n",
    "item_df = pd.DataFrame(rows)\n",
    "\n",
    "# Keep only games with metadata\n",
    "valid_games = set(item_df['id'])\n",
    "userItem_df = userItem_df[userItem_df['item_id'].isin(valid_games)]\n",
    "\n",
    "# Normalize playtime (0-1 scale)\n",
    "userItem_df['playtime_norm'] = (userItem_df['playtime'] - userItem_df['playtime'].min()) / \\\n",
    "(userItem_df['playtime'].max() - userItem_df['playtime'].min())"
   ]
  },
  {
   "cell_type": "markdown",
   "id": "04521968",
   "metadata": {},
   "source": [
    "# Exploratory Data Analysis"
   ]
  },
  {
   "cell_type": "markdown",
   "id": "45e8a303",
   "metadata": {},
   "source": [
    "# Model Implementation"
   ]
  },
  {
   "cell_type": "markdown",
   "id": "d6b7436b",
   "metadata": {},
   "source": [
    "## Basline"
   ]
  },
  {
   "cell_type": "code",
   "execution_count": null,
   "id": "8471ecff",
   "metadata": {},
   "outputs": [],
   "source": [
    "from surprise import Dataset, Reader, KNNBasic\n",
    "\n",
    "# Prepare data\n",
    "reader = Reader(rating_scale=(0,1))\n",
    "data = Dataset.load_from_df(userItem_df[['steam_id', 'item_id', 'playtime_norm']], reader)\n",
    "\n",
    "# Train KNN model (Item-based CF)\n",
    "trainset = data.build_full_trainset()\n",
    "sim_opts = {'name': 'cosine', 'user_based': False}\n",
    "model_cf = KNNBasic(sim_options=sim_opts)\n",
    "model_cf.fit(trainset)\n",
    "\n",
    "# Get recommendations for a user\n",
    "pred = model_cf.predict(uid='76561197970982479', iid='730')\n",
    "print(f\"Predicted playtime: {pred.est:.2f}\")\n",
    "\n",
    "user_id = '76561197970982479'\n",
    "played_game = set(userItem_df[userItem_df['user_id'] == user_id]['item_id'])\n",
    "all_games = set(userItem_df)\n",
    "unplayed_game = all_games-played_game\n",
    "\n",
    "# Player Predictions\n",
    "predictions = []\n",
    "for game_id in unplayed_game:\n",
    "    pred = model_cf.predict(uid=user_id, iid=game_id)\n",
    "    predictions.append((game_id,pred.est))\n",
    "\n",
    "# get top 5\n",
    "top_5 = sorted(predictions, key=lambda x: -x[1][:5])\n",
    "print(\"Top 5 Recommended Games (CF) :\")\n",
    "for game_id, score in top_5:\n",
    "    game_name = item_df[item_df['id'] == game_id]['title'].values[0]\n",
    "    print(f\"{game_name} (Predicted Playtime: {score:.2f})\")"
   ]
  },
  {
   "cell_type": "code",
   "execution_count": null,
   "id": "7315ae6e",
   "metadata": {},
   "outputs": [],
   "source": [
    "from sklearn.feature_extraction.text import TfidfVectorizer\n",
    "from sklearn.metrics.pairwise import cosine_similarity\n",
    "\n",
    "# Create TF-IDF matrix (weights)\n",
    "tfidf = TfidfVectorizer(stop_words='english')\n",
    "tfidx_matrix = tfidf.fit_transform(item_df['tags'])\n",
    "\n",
    "cos_sim = cosine_similarity(tfidx_matrix, tfidx_matrix)\n",
    "\n",
    "# Get recommendations for a game\n",
    "game_idx = item_df[item_df['app_name'] == 'Counter-Strike'].index[0]\n",
    "sim_score = list(enumerate(cos_sim[game_id]))\n",
    "sim_score = sorted(sim_score, key=lambda x: x[1], reverse=True)[1:6] #top 5\n",
    "rec_games = item_df.iloc[[i[0] for i in sim_score]]['app_names']\n",
    "print(rec_games)"
   ]
  },
  {
   "cell_type": "markdown",
   "id": "8667eb7b",
   "metadata": {},
   "source": [
    "## AI-Based Model"
   ]
  },
  {
   "cell_type": "code",
   "execution_count": null,
   "id": "f7e3bc72",
   "metadata": {},
   "outputs": [],
   "source": [
    "import torch\n",
    "import torch.nn as nn"
   ]
  },
  {
   "cell_type": "markdown",
   "id": "0daf8e0d",
   "metadata": {},
   "source": [
    "# Evaluation"
   ]
  },
  {
   "cell_type": "markdown",
   "id": "cf23b8c6",
   "metadata": {},
   "source": [
    "## Baseline"
   ]
  },
  {
   "cell_type": "markdown",
   "id": "b5f65419",
   "metadata": {},
   "source": [
    "## AI-Based Model"
   ]
  },
  {
   "cell_type": "markdown",
   "id": "918c5c9b",
   "metadata": {},
   "source": [
    "# Demo"
   ]
  },
  {
   "cell_type": "markdown",
   "id": "97ad0b7d",
   "metadata": {},
   "source": [
    "# Conclusion\n",
    "## Summary\n",
    "## Limitations\n",
    "## Future"
   ]
  }
 ],
 "metadata": {
  "kernelspec": {
   "display_name": ".venv",
   "language": "python",
   "name": "python3"
  },
  "language_info": {
   "codemirror_mode": {
    "name": "ipython",
    "version": 3
   },
   "file_extension": ".py",
   "mimetype": "text/x-python",
   "name": "python",
   "nbconvert_exporter": "python",
   "pygments_lexer": "ipython3",
   "version": "3.12.4"
  }
 },
 "nbformat": 4,
 "nbformat_minor": 5
}
